{
 "cells": [
  {
   "cell_type": "code",
   "execution_count": 1,
   "metadata": {},
   "outputs": [
    {
     "name": "stderr",
     "output_type": "stream",
     "text": [
      "[INFO   ] [Logger      ] Record log in /Users/kazukiota/.kivy/logs/kivy_19-05-16_26.txt\n",
      "[INFO   ] [Kivy        ] v1.10.1\n",
      "[INFO   ] [Python      ] v3.7.3 (default, Mar 27 2019, 09:23:15) \n",
      "[Clang 10.0.1 (clang-1001.0.46.3)]\n",
      "[INFO   ] [Factory     ] 194 symbols loaded\n",
      "[INFO   ] [Image       ] Providers: img_tex, img_imageio, img_dds, img_sdl2, img_gif (img_pil, img_ffpyplayer ignored)\n",
      "[INFO   ] [Text        ] Provider: sdl2\n",
      "[INFO   ] [Window      ] Provider: sdl2\n",
      "[INFO   ] [GL          ] Using the \"OpenGL ES 2\" graphics system\n",
      "[INFO   ] [GL          ] Backend used <gl>\n",
      "[INFO   ] [GL          ] OpenGL version <b'2.1 INTEL-12.8.38'>\n",
      "[INFO   ] [GL          ] OpenGL vendor <b'Intel Inc.'>\n",
      "[INFO   ] [GL          ] OpenGL renderer <b'Intel(R) Iris(TM) Plus Graphics 655'>\n",
      "[INFO   ] [GL          ] OpenGL parsed version: 2, 1\n",
      "[INFO   ] [GL          ] Shading version <b'1.20'>\n",
      "[INFO   ] [GL          ] Texture max size <16384>\n",
      "[INFO   ] [GL          ] Texture max units <16>\n",
      "[INFO   ] [Window      ] auto add sdl2 input provider\n",
      "[INFO   ] [Window      ] virtual keyboard not allowed, single mode, not docked\n",
      "[INFO   ] [Base        ] Start application main loop\n",
      "[INFO   ] [GL          ] NPOT texture support is available\n",
      "[INFO   ] [Base        ] Leaving application in progress...\n"
     ]
    }
   ],
   "source": [
    "from kivy.interactive import InteractiveLauncher\n",
    "from kivy.app import App\n",
    "from kivy.uix.button import Button\n",
    "\n",
    "class MyButton(Button):\n",
    "    def __init__(self):\n",
    "        super().__init__()\n",
    "        self.value = \"OFF\"\n",
    "        self.text = self.value\n",
    "\n",
    "    def on_press(self):\n",
    "        self.value = [\"ON\", \"OFF\"][self.value == \"ON\"]\n",
    "        self.text = self.value\n",
    "    \n",
    "\n",
    "class MyApp(App):\n",
    "    def build(self):\n",
    "        return MyButton()\n",
    "\n",
    "MyApp().run()\n",
    "exit()"
   ]
  },
  {
   "cell_type": "code",
   "execution_count": 1,
   "metadata": {},
   "outputs": [
    {
     "name": "stderr",
     "output_type": "stream",
     "text": [
      "[INFO   ] [Logger      ] Record log in /Users/kazukiota/.kivy/logs/kivy_19-05-16_17.txt\n",
      "[INFO   ] [Kivy        ] v1.10.1\n",
      "[INFO   ] [Python      ] v3.7.3 (default, Mar 27 2019, 09:23:15) \n",
      "[Clang 10.0.1 (clang-1001.0.46.3)]\n",
      "[INFO   ] [Factory     ] 194 symbols loaded\n",
      "[INFO   ] [Image       ] Providers: img_tex, img_imageio, img_dds, img_sdl2, img_gif (img_pil, img_ffpyplayer ignored)\n",
      "[INFO   ] [Text        ] Provider: sdl2\n",
      "[INFO   ] [Window      ] Provider: sdl2\n",
      "[INFO   ] [GL          ] Using the \"OpenGL ES 2\" graphics system\n",
      "[INFO   ] [GL          ] Backend used <gl>\n",
      "[INFO   ] [GL          ] OpenGL version <b'2.1 INTEL-12.8.38'>\n",
      "[INFO   ] [GL          ] OpenGL vendor <b'Intel Inc.'>\n",
      "[INFO   ] [GL          ] OpenGL renderer <b'Intel(R) Iris(TM) Plus Graphics 655'>\n",
      "[INFO   ] [GL          ] OpenGL parsed version: 2, 1\n",
      "[INFO   ] [GL          ] Shading version <b'1.20'>\n",
      "[INFO   ] [GL          ] Texture max size <16384>\n",
      "[INFO   ] [GL          ] Texture max units <16>\n",
      "[INFO   ] [Window      ] auto add sdl2 input provider\n",
      "[INFO   ] [Window      ] virtual keyboard not allowed, single mode, not docked\n",
      "[INFO   ] [Base        ] Start application main loop\n",
      "[INFO   ] [GL          ] NPOT texture support is available\n"
     ]
    },
    {
     "name": "stdout",
     "output_type": "stream",
     "text": [
      "PRESSED\n",
      "PRESSED\n",
      "PRESSED\n"
     ]
    },
    {
     "name": "stderr",
     "output_type": "stream",
     "text": [
      "[INFO   ] [Base        ] Leaving application in progress...\n",
      "[INFO   ] [Base        ] Start application main loop\n",
      "[ERROR  ] [Base        ] No event listeners have been created\n",
      "[ERROR  ] [Base        ] Application will leave\n"
     ]
    }
   ],
   "source": [
    "%run -i hoge.py"
   ]
  },
  {
   "cell_type": "code",
   "execution_count": 2,
   "metadata": {},
   "outputs": [
    {
     "ename": "SyntaxError",
     "evalue": "invalid syntax (<ipython-input-2-9d1c4bc014cd>, line 1)",
     "output_type": "error",
     "traceback": [
      "\u001b[0;36m  File \u001b[0;32m\"<ipython-input-2-9d1c4bc014cd>\"\u001b[0;36m, line \u001b[0;32m1\u001b[0m\n\u001b[0;31m    jupyter nbconvert --to python test.ipynb\u001b[0m\n\u001b[0m                    ^\u001b[0m\n\u001b[0;31mSyntaxError\u001b[0m\u001b[0;31m:\u001b[0m invalid syntax\n"
     ]
    }
   ],
   "source": []
  }
 ],
 "metadata": {
  "kernelspec": {
   "display_name": "Python 3",
   "language": "python",
   "name": "python3"
  },
  "language_info": {
   "codemirror_mode": {
    "name": "ipython",
    "version": 3
   },
   "file_extension": ".py",
   "mimetype": "text/x-python",
   "name": "python",
   "nbconvert_exporter": "python",
   "pygments_lexer": "ipython3",
   "version": "3.7.3"
  }
 },
 "nbformat": 4,
 "nbformat_minor": 2
}
